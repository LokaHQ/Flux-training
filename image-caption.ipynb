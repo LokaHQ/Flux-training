{
 "cells": [
  {
   "cell_type": "code",
   "execution_count": null,
   "id": "14e6b1e1-d567-41c4-98b1-78accfdaf73e",
   "metadata": {},
   "outputs": [],
   "source": [
    "!python -m pip install --upgrade pip wheel setuptools"
   ]
  },
  {
   "cell_type": "code",
   "execution_count": null,
   "id": "2302b9f3-e521-4cbe-99f4-b7d3982b2aff",
   "metadata": {},
   "outputs": [],
   "source": [
    "!pip install torch"
   ]
  },
  {
   "cell_type": "code",
   "execution_count": null,
   "id": "6f522e74-7814-4d70-81da-bd4ae447cf19",
   "metadata": {},
   "outputs": [],
   "source": [
    "!FLASH_ATTENTION_SKIP_CUDA_BUILD=TRUE pip install flash-attn --no-build-isolation"
   ]
  },
  {
   "cell_type": "code",
   "execution_count": null,
   "id": "38e6031b-adb6-4807-a237-9b679cff6b51",
   "metadata": {},
   "outputs": [],
   "source": [
    "!pip install transformers timm"
   ]
  },
  {
   "cell_type": "code",
   "execution_count": null,
   "id": "5de01ad4-42ee-4c82-97db-777260a94163",
   "metadata": {},
   "outputs": [],
   "source": [
    "from transformers import AutoProcessor, AutoModelForCausalLM\n",
    "from PIL import Image\n",
    "import requests\n",
    "import copy\n",
    "\n",
    "model_id = 'microsoft/Florence-2-large'\n",
    "model = AutoModelForCausalLM.from_pretrained(model_id, trust_remote_code=True).eval().cuda()\n",
    "processor = AutoProcessor.from_pretrained(model_id, trust_remote_code=True)\n",
    "\n",
    "def run_example(task_prompt, text_input=None):\n",
    "    if text_input is None:\n",
    "        prompt = task_prompt\n",
    "    else:\n",
    "        prompt = task_prompt + text_input\n",
    "\n",
    "    inputs = processor(text=prompt, images=image, return_tensors=\"pt\")\n",
    "    generated_ids = model.generate(\n",
    "        input_ids=inputs[\"input_ids\"].cuda(),\n",
    "        pixel_values=inputs[\"pixel_values\"].cuda(),\n",
    "        max_new_tokens=1024,\n",
    "        early_stopping=False,\n",
    "        do_sample=False,\n",
    "        num_beams=3,\n",
    "    )\n",
    "    generated_text = processor.batch_decode(generated_ids, skip_special_tokens=False)[0]\n",
    "    parsed_answer = processor.post_process_generation(\n",
    "        generated_text,\n",
    "        task=task_prompt,\n",
    "        image_size=(image.width, image.height)\n",
    "    )\n",
    "\n",
    "    return parsed_answer"
   ]
  },
  {
   "cell_type": "code",
   "execution_count": 8,
   "id": "7f57030b-a1dd-4cca-923a-eab7bbc19d34",
   "metadata": {},
   "outputs": [
    {
     "name": "stdout",
     "output_type": "stream",
     "text": [
      "{'<MORE_DETAILED_CAPTION>': 'The image shows a young man standing on a sandy beach with a lake and mountains in the background. He is wearing a grey t-shirt, black shorts, and sunglasses, and has a backpack slung over his shoulder. He has a red hat in his left hand and is holding a pair of sunglasses in his right hand. The man is looking up at the sky with a slight smile on his face. The lake is calm and the water is a light blue color. There are trees and mountains visible in the distance. The sky is clear and blue.'}\n"
     ]
    }
   ],
   "source": [
    "image = Image.open(\"img16.jpg\").convert(\"RGB\")\n",
    "\n",
    "task_prompt = \"<MORE_DETAILED_CAPTION>\"\n",
    "answer = run_example(task_prompt=task_prompt)\n",
    "\n",
    "print(answer)"
   ]
  },
  {
   "cell_type": "code",
   "execution_count": 9,
   "id": "420c7f51-3150-4b3e-852b-2f6525624d88",
   "metadata": {},
   "outputs": [],
   "source": [
    "import os"
   ]
  },
  {
   "cell_type": "code",
   "execution_count": null,
   "id": "4105d2e1-6ae0-4b66-a393-cc2520903843",
   "metadata": {},
   "outputs": [],
   "source": [
    "os.listdir('./images')"
   ]
  },
  {
   "cell_type": "code",
   "execution_count": 20,
   "id": "2239f850-dfb5-46fe-a02d-531a9cb12564",
   "metadata": {},
   "outputs": [
    {
     "name": "stdout",
     "output_type": "stream",
     "text": [
      "Captioning image: /images/img9\n",
      "Captioning image: /images/img8\n",
      "Captioning image: /images/img5\n",
      "Captioning image: /images/img4\n",
      "Captioning image: /images/img6\n",
      "Captioning image: /images/img7\n",
      "Captioning image: /images/img3\n",
      "Captioning image: /images/img2\n",
      "Captioning image: /images/img1\n",
      "Captioning image: /images/img16\n",
      "Captioning image: /images/img14\n",
      "Captioning image: /images/img15\n",
      "Captioning image: /images/img11\n",
      "Captioning image: /images/img10\n",
      "Captioning image: /images/img12\n",
      "Captioning image: /images/img13\n"
     ]
    }
   ],
   "source": [
    "folder = './images'\n",
    "\n",
    "list_of_img = os.listdir(folder)\n",
    "\n",
    "for img in list_of_img:\n",
    "    if img.endswith('.jpg'):\n",
    "        file_path = (folder+'/'+img).split('.')[1]\n",
    "        print(f'Captioning image: {file_path}')\n",
    "        image_path = '.'+file_path+'.jpg'\n",
    "        image = Image.open(image_path).convert(\"RGB\")\n",
    "        task_prompt = \"<MORE_DETAILED_CAPTION>\"\n",
    "        answer = run_example(task_prompt=task_prompt)\n",
    "        text_path = '.'+file_path+'.txt'\n",
    "        with open(text_path, 'w') as f:\n",
    "            f.write(answer['<MORE_DETAILED_CAPTION>'])\n",
    "        "
   ]
  },
  {
   "cell_type": "code",
   "execution_count": null,
   "id": "eac60bdd-ab37-4f62-98c8-d068bcd55aad",
   "metadata": {},
   "outputs": [],
   "source": []
  }
 ],
 "metadata": {
  "kernelspec": {
   "display_name": "Python 3 (ipykernel)",
   "language": "python",
   "name": "python3"
  },
  "language_info": {
   "codemirror_mode": {
    "name": "ipython",
    "version": 3
   },
   "file_extension": ".py",
   "mimetype": "text/x-python",
   "name": "python",
   "nbconvert_exporter": "python",
   "pygments_lexer": "ipython3",
   "version": "3.10.14"
  }
 },
 "nbformat": 4,
 "nbformat_minor": 5
}
